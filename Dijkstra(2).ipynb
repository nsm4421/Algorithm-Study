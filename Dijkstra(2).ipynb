{
 "cells": [
  {
   "cell_type": "markdown",
   "metadata": {},
   "source": [
    "Heap 자료형을 이용해 정렬하기"
   ]
  },
  {
   "cell_type": "code",
   "execution_count": 1,
   "metadata": {},
   "outputs": [],
   "source": [
    "import heapq\n",
    "\n",
    "def sort_ascending(iterable):\n",
    "    a = []\n",
    "    for value in iterable:\n",
    "        heapq.heappush(a, value)\n",
    "    return [heapq.heappop(a) for _ in range(len(a))]"
   ]
  },
  {
   "cell_type": "code",
   "execution_count": 2,
   "metadata": {},
   "outputs": [],
   "source": [
    "def sort_descending(iterable):\n",
    "    a = []\n",
    "    for value in iterable:\n",
    "        heapq.heappush(a, -value)\n",
    "    return [-heapq.heappop(a) for _ in range(len(a))]"
   ]
  },
  {
   "cell_type": "code",
   "execution_count": 3,
   "metadata": {},
   "outputs": [
    {
     "name": "stdout",
     "output_type": "stream",
     "text": [
      "a : [1, 3, 5, 7, 9, 11, 8, 6, 4, 2, 0]\n",
      "ascending : [0, 1, 2, 3, 4, 5, 6, 7, 8, 9, 11]\n",
      "descending : [11, 9, 8, 7, 6, 5, 4, 3, 2, 1, 0]\n"
     ]
    }
   ],
   "source": [
    "a = [1,3,5,7,9,11,8,6,4,2,0]\n",
    "print(f'a : {a}')\n",
    "print(f'ascending : {sort_ascending(a)}')\n",
    "print(f'descending : {sort_descending(a)}')"
   ]
  },
  {
   "cell_type": "markdown",
   "metadata": {},
   "source": [
    "Daikstra\n",
    "\n",
    "Time Complexity : $O(ElogV)$"
   ]
  },
  {
   "cell_type": "code",
   "execution_count": 4,
   "metadata": {},
   "outputs": [],
   "source": [
    "N = 6\n",
    "start = 1\n",
    "INF = int(1e5)\n",
    "graph = [[],\n",
    "        [[2, 2], [3, 5], [4, 1]],\n",
    "        [[4, 2], [3, 3]],\n",
    "        [[2, 3], [6, 5]],\n",
    "        [[3, 3], [5, 1]],\n",
    "        [[3, 1], [6, 2]],\n",
    "        []]\n",
    "\n",
    "visited = [False]*(N+1)\n",
    "distance = [INF]*(N+1)"
   ]
  },
  {
   "cell_type": "code",
   "execution_count": 5,
   "metadata": {},
   "outputs": [],
   "source": [
    "def dijkstra(start = 1):\n",
    "    q = []\n",
    "    heapq.heappush(q, (0, start))\n",
    "    distance[start] = 0\n",
    "    \n",
    "    while q:\n",
    "        dist, now = heapq.heappop(q)   # 최단거리 정보를 꺼냄\n",
    "        if distance[now] < dist:    # 처리된 node 정보만 꺼냄\n",
    "            continue\n",
    "        else:\n",
    "            for i in graph[now]:\n",
    "                cost = dist + i[1]\n",
    "                if cost<distance[i[0]]:\n",
    "                    distance[i[0]] = cost\n",
    "                    heapq.heappush(q, (cost, i[0]))"
   ]
  },
  {
   "cell_type": "code",
   "execution_count": 6,
   "metadata": {},
   "outputs": [
    {
     "name": "stdout",
     "output_type": "stream",
     "text": [
      "Cost 1 ~ 1 : 0\n",
      "Cost 1 ~ 2 : 2\n",
      "Cost 1 ~ 3 : 3\n",
      "Cost 1 ~ 4 : 1\n",
      "Cost 1 ~ 5 : 2\n",
      "Cost 1 ~ 6 : 4\n"
     ]
    }
   ],
   "source": [
    "dijkstra(start)\n",
    "\n",
    "for i in range(1, N+1):\n",
    "    if distance[i] == INF:\n",
    "        print(f'Cost {start} ~ {i} : Infinity')\n",
    "    else:\n",
    "        print(f'Cost {start} ~ {i} : {distance[i]}')"
   ]
  }
 ],
 "metadata": {
  "kernelspec": {
   "display_name": "Python 3",
   "language": "python",
   "name": "python3"
  },
  "language_info": {
   "codemirror_mode": {
    "name": "ipython",
    "version": 3
   },
   "file_extension": ".py",
   "mimetype": "text/x-python",
   "name": "python",
   "nbconvert_exporter": "python",
   "pygments_lexer": "ipython3",
   "version": "3.8.5"
  }
 },
 "nbformat": 4,
 "nbformat_minor": 4
}
