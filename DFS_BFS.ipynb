{
 "cells": [
  {
   "cell_type": "markdown",
   "metadata": {},
   "source": [
    "DFS & BFS 구현"
   ]
  },
  {
   "cell_type": "code",
   "execution_count": 1,
   "metadata": {},
   "outputs": [],
   "source": [
    "def DFS(graph, node, visited):\n",
    "    visited[node] = True\n",
    "    print(node, end = '  ')\n",
    "    for adj_node in graph[node]:\n",
    "        if not visited[adj_node]:\n",
    "            DFS(graph, adj_node, visited)  "
   ]
  },
  {
   "cell_type": "code",
   "execution_count": 8,
   "metadata": {},
   "outputs": [],
   "source": [
    "from collections import deque\n",
    "\n",
    "def BFS(graph, node, visited):\n",
    "    que = deque([node])\n",
    "    visited[node] = True    # 방문처리  \n",
    "    while que:\n",
    "        v = que.popleft()\n",
    "        print(v, end=' ')\n",
    "        for adj_node in graph[v]:\n",
    "            if not visited[adj_node]:\n",
    "                que.append(adj_node)\n",
    "                visited[adj_node] = True"
   ]
  },
  {
   "cell_type": "code",
   "execution_count": 9,
   "metadata": {},
   "outputs": [],
   "source": [
    "start_node = 1\n",
    "\n",
    "sample_graph = [[], [2,3], [1,6], [1,5], [1,5], [3,4], [2]]\n",
    "sample_visited = [False]*len(sample_graph)"
   ]
  },
  {
   "cell_type": "code",
   "execution_count": 10,
   "metadata": {},
   "outputs": [
    {
     "name": "stdout",
     "output_type": "stream",
     "text": [
      "1  2  6  3  5  4  "
     ]
    }
   ],
   "source": [
    "DFS(sample_graph, start_node, sample_visited)"
   ]
  },
  {
   "cell_type": "code",
   "execution_count": 11,
   "metadata": {},
   "outputs": [],
   "source": [
    "start_node = 1\n",
    "\n",
    "sample_graph = [[], [2,3], [1,6], [1,5], [1,5], [3,4], [2]]\n",
    "sample_visited = [False]*len(sample_graph)"
   ]
  },
  {
   "cell_type": "code",
   "execution_count": 12,
   "metadata": {},
   "outputs": [
    {
     "name": "stdout",
     "output_type": "stream",
     "text": [
      "1 2 3 6 5 4 "
     ]
    }
   ],
   "source": [
    "BFS(sample_graph, start_node, sample_visited)"
   ]
  },
  {
   "cell_type": "code",
   "execution_count": null,
   "metadata": {},
   "outputs": [],
   "source": []
  }
 ],
 "metadata": {
  "kernelspec": {
   "display_name": "Python 3",
   "language": "python",
   "name": "python3"
  },
  "language_info": {
   "codemirror_mode": {
    "name": "ipython",
    "version": 3
   },
   "file_extension": ".py",
   "mimetype": "text/x-python",
   "name": "python",
   "nbconvert_exporter": "python",
   "pygments_lexer": "ipython3",
   "version": "3.8.5"
  }
 },
 "nbformat": 4,
 "nbformat_minor": 4
}
