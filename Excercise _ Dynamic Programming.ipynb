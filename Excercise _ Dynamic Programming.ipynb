{
 "cells": [
  {
   "cell_type": "markdown",
   "metadata": {},
   "source": [
    "### 금광\n",
    "\n",
    "> 입력\n",
    "\n",
    "    - N, M : Grid의 크기\n",
    "    \n",
    "    - Grid 각 칸에 있는 금의 양\n",
    "    \n",
    "> 조건\n",
    "\n",
    "    - 시작 위치는 grid의 가장 왼쪽 열에서 아무 위치나 결정해도 좋다.\n",
    "\n",
    "    - 각 Step 마다 이동할 수 있는 방법은 아래의 3가지\n",
    "        1)오른쪽\n",
    "        2) 오른쪽 위\n",
    "        3) 오른쪽 아래\n",
    "        단, Grid 밖으로 벗어나는 이동은 할 수 없다.\n",
    "        \n",
    "    - 도착 위치는 grid의 가장 오른쪽 열에서 아무 위치여도 상관 없다.\n",
    "\n",
    "> 출력\n",
    "    \n",
    "    모을 수 있는 금의 최대치는?"
   ]
  },
  {
   "cell_type": "code",
   "execution_count": 1,
   "metadata": {},
   "outputs": [],
   "source": [
    "# 입력\n",
    "N, M = 3, 4\n",
    "grid = [[1, 3, 3, 2],\n",
    "       [2, 1, 4, 1],\n",
    "       [0, 6, 4, 7]]"
   ]
  },
  {
   "cell_type": "code",
   "execution_count": 2,
   "metadata": {},
   "outputs": [
    {
     "name": "stdout",
     "output_type": "stream",
     "text": [
      "(0, 0)에서 출발 ---> 얻을 수 있는 최대의 골드 량 : 15\n",
      "(1, 0)에서 출발 ---> 얻을 수 있는 최대의 골드 량 : 19\n",
      "(2, 0)에서 출발 ---> 얻을 수 있는 최대의 골드 량 : 17\n"
     ]
    }
   ],
   "source": [
    "def gold(h, w):\n",
    "    if w<M-1:    \n",
    "        if h==0:\n",
    "            return grid[h][w] + max(gold(h, w+1), gold(h+1, w+1))\n",
    "        elif h==N-1:\n",
    "            return grid[h][w] + max(gold(h, w+1), gold(h-1, w+1))\n",
    "        else:\n",
    "            return grid[h][w] + max(gold(h, w+1), gold(h+1, w+1), gold(h-1, w+1)) \n",
    "    else:\n",
    "        return grid[h][w]  \n",
    "\n",
    "for n in range(N):\n",
    "    print(f'({n}, 0)에서 출발 ---> 얻을 수 있는 최대의 골드 량 : {gold(n, 0)}')"
   ]
  },
  {
   "cell_type": "markdown",
   "metadata": {},
   "source": [
    "### 정수형 삼각형\n",
    "\n",
    "> 예시\n",
    "\n",
    "7\n",
    "\n",
    "5    3\n",
    "\n",
    "8    1    4\n",
    "\n",
    "위와 같이 정수로 이루어진 삼각형이 주어졌다고 해보자\n",
    "\n",
    "그럼 맨 위의 숫자 7부터 내려올 수 오면서 숫자를 더해서 최대를 만들려고 한다.\n",
    "\n",
    "위의 예라면 7---> 5 ---> 8 순서로 내려와서 합을 20으로 만드는 것이 최대가 된다.\n",
    "\n",
    "> 입력\n",
    "\n",
    "삼각형의 높이 $N$와 $N(N+1)/2$ 개의 숫자가 주어진다.\n",
    "\n",
    "> 출력\n",
    "\n",
    "만들 수 있는 합의 최댓값"
   ]
  },
  {
   "cell_type": "code",
   "execution_count": 3,
   "metadata": {},
   "outputs": [],
   "source": [
    "N = 5\n",
    "numbers = [7,\n",
    "           3, 2,\n",
    "           1, 1, 10,\n",
    "           3, 1, 4, 16,\n",
    "           13, 1, 2, 1, 1]"
   ]
  },
  {
   "cell_type": "code",
   "execution_count": 4,
   "metadata": {},
   "outputs": [
    {
     "name": "stdout",
     "output_type": "stream",
     "text": [
      "만들 수 있는 최대 숫자는 36\n"
     ]
    }
   ],
   "source": [
    "def triangle(nums):\n",
    "\n",
    "    n = len(nums)\n",
    "    if n==1:\n",
    "        return nums[0]\n",
    "    else:\n",
    "        left_diag, right_diag = [], []\n",
    "        i, j = 0, 0\n",
    "        while i*(i+1)/2<n or j*(j+3)/2<n:\n",
    "            left_diag.append(i*(i+1)/2)  \n",
    "            i+=1\n",
    "            right_diag.append(j*(j+3)/2)\n",
    "            j+=1\n",
    "        right_idx = list(set(range(n)) - set(left_diag))\n",
    "        left_idx = list(set(range(n)) - set(right_diag))\n",
    "\n",
    "        return nums[0] + max(triangle([nums[idx] for idx in right_idx]),\n",
    "                            triangle([nums[idx] for idx in left_idx]))\n",
    "    \n",
    "print(f'만들 수 있는 최대 숫자는 {triangle(numbers)}')"
   ]
  },
  {
   "cell_type": "code",
   "execution_count": 5,
   "metadata": {},
   "outputs": [
    {
     "name": "stdout",
     "output_type": "stream",
     "text": [
      "36\n"
     ]
    }
   ],
   "source": [
    "# ---- 책에 있는 풀이 ----#\n",
    "N = 5\n",
    "dp = [[7],\n",
    "      [3, 2],\n",
    "      [1, 1, 10],\n",
    "      [3, 1, 4, 16],\n",
    "      [13, 1, 2, 1, 1]]\n",
    "for i in range(1, N):\n",
    "    for j in range(i+1):\n",
    "        if j==0:\n",
    "            up_left = 0\n",
    "        else:\n",
    "            up_left = dp[i-1][j-1]\n",
    "        if j==i:\n",
    "            up=0\n",
    "        else:\n",
    "            up = dp[i-1][j]\n",
    "        dp[i][j] += max(up_left, up)\n",
    "        \n",
    "print(max(dp[N-1]))"
   ]
  },
  {
   "cell_type": "markdown",
   "metadata": {},
   "source": [
    "### 퇴사\n",
    "\n",
    "> 상황\n",
    "\n",
    "상담원은 N+1일 뒤에 퇴사 한다.\n",
    "\n",
    "따라서 내일부터 N일 뒤까지 상담을 통해 최대한 많은 돈을 벌려고 한다.\n",
    "\n",
    "> 입력\n",
    "\n",
    "$T_i$ : $i$ 일 뒤에 시작할 수 있는 상담에 걸리는 시간\n",
    "\n",
    "$P_i$ : $i$ 일 뒤에 시작하는 상담의 보수\n",
    "\n",
    "> 예시\n",
    "\n",
    "$N$ = 4\n",
    "\n",
    "$T_1$ = 2,  $T_2$ = 5, $T_3$ = 2, $T_4$ = 1\n",
    "\n",
    "\n",
    "$P_1$ = 5,  $P_2$ = 4, $P_3$ = 2, $P_4$ = 3\n",
    "\n",
    "이 경우 1일 뒤에 시작하는 상담을 하면 $T_1$ (=2)일 동안 상담해서 $P_1$ (=5)원을 받는다.\n",
    "\n",
    "그럼 1, 2 일 뒤까지 상담해야하므로 다음 상담은 3일 뒤에 가능하다.\n",
    "\n",
    "3일 뒤에 시작하는 상담을 하면 $T_3$ (=2)일 동안 상담해서 $P_3$ (=2)원을 버는 것 보다\n",
    "\n",
    "3일 뒤에 쉬고, 4일 뒤에 $T_4$ (=1)일 동안 상담해서 $P_4$ (=3)원을 버는 것이 더 이득이다.\n",
    "\n",
    "따라서 결과적으로 $P_1 + P_4 = 7$ 가 보수의 최댓값이 된다."
   ]
  },
  {
   "cell_type": "code",
   "execution_count": 6,
   "metadata": {},
   "outputs": [],
   "source": [
    "# 입력 (출력 45)\n",
    "N = 7\n",
    "T = [3, 5, 1, 1, 2, 4, 2]\n",
    "P = [10, 20, 10, 20, 15, 40, 200]"
   ]
  },
  {
   "cell_type": "markdown",
   "metadata": {},
   "source": [
    "dp[i] = max(p[i] + dp[t[i]+i], max_value)"
   ]
  },
  {
   "cell_type": "code",
   "execution_count": 7,
   "metadata": {},
   "outputs": [
    {
     "name": "stdout",
     "output_type": "stream",
     "text": [
      "45\n"
     ]
    }
   ],
   "source": [
    "# ---- 책에 있는 풀이 ----#\n",
    "dp = [0]*(N+1)\n",
    "max_value = 0\n",
    "\n",
    "for i in range(N-1, -1, -1):\n",
    "    time = T[i] + i\n",
    "    if time <= N:\n",
    "        dp[i] = max(P[i]+dp[time], max_value)\n",
    "        max_value = dp[i]\n",
    "    else:\n",
    "        dp[i] = max_value\n",
    "        \n",
    "print(max_value)"
   ]
  }
 ],
 "metadata": {
  "kernelspec": {
   "display_name": "Python 3",
   "language": "python",
   "name": "python3"
  },
  "language_info": {
   "codemirror_mode": {
    "name": "ipython",
    "version": 3
   },
   "file_extension": ".py",
   "mimetype": "text/x-python",
   "name": "python",
   "nbconvert_exporter": "python",
   "pygments_lexer": "ipython3",
   "version": "3.8.5"
  }
 },
 "nbformat": 4,
 "nbformat_minor": 4
}
