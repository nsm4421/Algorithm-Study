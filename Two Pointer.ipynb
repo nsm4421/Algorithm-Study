{
 "cells": [
  {
   "cell_type": "markdown",
   "metadata": {},
   "source": [
    "## 에라토스테네스의 체"
   ]
  },
  {
   "cell_type": "code",
   "execution_count": 1,
   "metadata": {},
   "outputs": [],
   "source": [
    "def is_prime(n):\n",
    "    if n==1:\n",
    "        return False\n",
    "    elif n==2 or n==3:\n",
    "        return True\n",
    "    else:\n",
    "        table = [True]*(n+1)\n",
    "        for i in range(2, int(n**0.5)):\n",
    "            if table[i]:\n",
    "                j=2\n",
    "                while i*j<=n:\n",
    "                    table[i*j] = False\n",
    "                    j+=1\n",
    "        return table[n]"
   ]
  },
  {
   "cell_type": "code",
   "execution_count": 2,
   "metadata": {},
   "outputs": [
    {
     "name": "stdout",
     "output_type": "stream",
     "text": [
      "11   13   15   17   19   23   25   29   "
     ]
    }
   ],
   "source": [
    "for i in range(10,30):\n",
    "    if is_prime(i):\n",
    "        print(i, end = '   ')"
   ]
  },
  {
   "cell_type": "markdown",
   "metadata": {},
   "source": [
    "## Two Pointer"
   ]
  },
  {
   "cell_type": "markdown",
   "metadata": {},
   "source": [
    "자연수 값들을 가진 길의 N의 list와 정수 M이 주어진다. \n",
    "\n",
    "이 때 list들의 원소들로 부분합을 통해 M을 만들 수 있는 가짓수를 구하라\n",
    "\n",
    "예를들어 lst = [1,2,3]과 M=3이 주어진다면 가능한 경우는 2가지다.\n",
    "(1) lst[0:1]\n",
    "(2) lst[2]"
   ]
  },
  {
   "cell_type": "code",
   "execution_count": 3,
   "metadata": {},
   "outputs": [],
   "source": [
    "# Input\n",
    "lst = [1,2,3,2,5]\n",
    "N, M = 5,5"
   ]
  },
  {
   "cell_type": "code",
   "execution_count": 4,
   "metadata": {},
   "outputs": [],
   "source": [
    "# Setting\n",
    "cnt, end, partial_sum = 0, 0, 0"
   ]
  },
  {
   "cell_type": "code",
   "execution_count": 5,
   "metadata": {},
   "outputs": [
    {
     "name": "stdout",
     "output_type": "stream",
     "text": [
      "3\n"
     ]
    }
   ],
   "source": [
    "for start in range(N):\n",
    "    while partial_sum < M and end<N:\n",
    "        partial_sum += lst[end]\n",
    "        end +=1\n",
    "    if partial_sum == M:\n",
    "        cnt +=1\n",
    "    partial_sum -= lst[start]\n",
    "    \n",
    "print(cnt)"
   ]
  },
  {
   "cell_type": "markdown",
   "metadata": {},
   "source": [
    "정렬된 두 개의 list A,B가 존재한다.\n",
    "이 때 두 list를 합쳐서 정렬된 새로운 list를 만들려고 한다."
   ]
  },
  {
   "cell_type": "code",
   "execution_count": 6,
   "metadata": {},
   "outputs": [],
   "source": [
    "# input\n",
    "A = [11,12]\n",
    "B = [10, 11, 12,15]"
   ]
  },
  {
   "cell_type": "code",
   "execution_count": 7,
   "metadata": {},
   "outputs": [],
   "source": [
    "# Setting\n",
    "i, j, C = 0, 0 ,[]"
   ]
  },
  {
   "cell_type": "code",
   "execution_count": 8,
   "metadata": {},
   "outputs": [
    {
     "name": "stdout",
     "output_type": "stream",
     "text": [
      "[11, 12, 12, 12, 15]\n"
     ]
    }
   ],
   "source": [
    "while i<len(A) and j<len(B):\n",
    "    if A[i]<=B[j] and i!=len(A)-1:\n",
    "        i +=1\n",
    "        C.append(A[i])\n",
    "    elif A[i]>B[j] and j!=len(B)-1:\n",
    "        j +=1\n",
    "        C.append(B[j])\n",
    "    elif i==len(A)-1:\n",
    "        C.append(B[j])\n",
    "        j+=1\n",
    "    elif j==len(B)-1:\n",
    "        C.append(A[i])\n",
    "        i+=1\n",
    "        \n",
    "print(C)"
   ]
  },
  {
   "cell_type": "markdown",
   "metadata": {},
   "source": [
    "### Prefix Sum\n",
    "\n",
    "$P[R] - P[L-1]$\n",
    "\n",
    "부분합 빠르게 구하기"
   ]
  },
  {
   "cell_type": "code",
   "execution_count": 9,
   "metadata": {},
   "outputs": [],
   "source": [
    "N = 1000\n",
    "lst = [10]*N"
   ]
  },
  {
   "cell_type": "code",
   "execution_count": 10,
   "metadata": {},
   "outputs": [],
   "source": [
    "partial_sum = [sum(lst[:i]) for i in range(N+1)]\n",
    "def prefix_sum(i, j):\n",
    "    return partial_sum[j] - partial_sum[i-1]"
   ]
  },
  {
   "cell_type": "code",
   "execution_count": null,
   "metadata": {},
   "outputs": [],
   "source": []
  }
 ],
 "metadata": {
  "kernelspec": {
   "display_name": "Python 3",
   "language": "python",
   "name": "python3"
  },
  "language_info": {
   "codemirror_mode": {
    "name": "ipython",
    "version": 3
   },
   "file_extension": ".py",
   "mimetype": "text/x-python",
   "name": "python",
   "nbconvert_exporter": "python",
   "pygments_lexer": "ipython3",
   "version": "3.8.5"
  }
 },
 "nbformat": 4,
 "nbformat_minor": 4
}
