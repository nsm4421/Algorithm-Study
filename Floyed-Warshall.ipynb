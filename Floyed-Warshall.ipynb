{
 "cells": [
  {
   "cell_type": "markdown",
   "metadata": {},
   "source": [
    "## Floyed Warshall Algorithm\n",
    "\n",
    "Time Complexity : $O(N^3)$"
   ]
  },
  {
   "cell_type": "code",
   "execution_count": 1,
   "metadata": {},
   "outputs": [],
   "source": [
    "## Settings\n",
    "\n",
    "N = 6    # Number of Edges\n",
    "INF = int(1e5)    # Very Large Number\n",
    "graph = [[],\n",
    "        [[2, 2], [3, 5], [4, 1]],\n",
    "        [[4, 2], [3, 3]],\n",
    "        [[2, 3], [6, 5]],\n",
    "        [[3, 3], [5, 1]],\n",
    "        [[3, 1], [6, 2]],\n",
    "        []]    # i-th component consist of tuples (adjcent node, distance)"
   ]
  },
  {
   "cell_type": "code",
   "execution_count": 2,
   "metadata": {},
   "outputs": [],
   "source": [
    "distance = [[INF]*(N+1) for _ in range(N+1)] \n",
    "\n",
    "for i, tuples in enumerate(graph):\n",
    "    for t in tuples:\n",
    "        adj_node, dist = t    # unpack\n",
    "        distance[i][adj_node] = dist"
   ]
  },
  {
   "cell_type": "markdown",
   "metadata": {},
   "source": [
    "$D_{i,i}$ = 0  (자기 자신과의 거리는 0)"
   ]
  },
  {
   "cell_type": "code",
   "execution_count": 3,
   "metadata": {},
   "outputs": [],
   "source": [
    "for i in range(1, N+1):\n",
    "    distance[i][i] = 0"
   ]
  },
  {
   "cell_type": "markdown",
   "metadata": {},
   "source": [
    "$D_{i, j}$ = $min (D_{i,j}, D_{i,k} + D_{k,j})$ if $i,j,k$ are distinct"
   ]
  },
  {
   "cell_type": "code",
   "execution_count": 4,
   "metadata": {},
   "outputs": [],
   "source": [
    "for k in range(1, N+1):\n",
    "    for i in range(1, N+1):\n",
    "        for j in range(1, N+1):\n",
    "            distance[i][j] = min(distance[i][j], distance[i][k] + distance[k][j])"
   ]
  },
  {
   "cell_type": "markdown",
   "metadata": {},
   "source": [
    "print distance from ${i}-th$ node to ${j}-th$ node"
   ]
  },
  {
   "cell_type": "code",
   "execution_count": 5,
   "metadata": {},
   "outputs": [],
   "source": [
    "for i in range(1, N+1):\n",
    "    for j in range(1, N+1):\n",
    "        dist = distance[i][j]\n",
    "        if dist != INF:\n",
    "            print(f'{i}~{j} : {dist}', end = ' // ')\n",
    "        else:\n",
    "            print(f'{i}~{j} : infinity', end = ' // ')   "
   ]
  },
  {
   "cell_type": "markdown",
   "metadata": {},
   "source": [
    "print result as dataFame of pandas"
   ]
  },
  {
   "cell_type": "code",
   "execution_count": 6,
   "metadata": {},
   "outputs": [],
   "source": [
    "import pandas as pd\n",
    "import numpy as np\n",
    "df = pd.DataFrame(np.array(distance)).iloc[1:,1:].replace(INF, 'Infinity')"
   ]
  },
  {
   "cell_type": "code",
   "execution_count": 7,
   "metadata": {},
   "outputs": [],
   "source": [
    "df"
   ]
  },
  {
   "cell_type": "markdown",
   "metadata": {},
   "source": [
    "### Excercise\n",
    "\n",
    "다음과 같은 입출력을 가지는 함수를 만들어 보자.\n",
    "\n",
    "    입력 : 지나가야할 포인트\n",
    "\n",
    "    출력 : 최단 거리"
   ]
  },
  {
   "cell_type": "code",
   "execution_count": 8,
   "metadata": {},
   "outputs": [],
   "source": [
    "N = 6    # Number of Edges\n",
    "INF = int(1e5)\n",
    "graph = [[],\n",
    "        [[2, 2], [3, 5], [4, 1]],\n",
    "        [[4, 2], [3, 3]],\n",
    "        [[2, 3], [6, 5]],\n",
    "        [[3, 3], [5, 1]],\n",
    "        [[3, 1], [6, 2]],\n",
    "        []]\n",
    "distance = [[INF]*(N+1) for _ in range(N+1)]"
   ]
  },
  {
   "cell_type": "code",
   "execution_count": 9,
   "metadata": {},
   "outputs": [],
   "source": [
    "def func(path):\n",
    "    # Floyed Warshall Alogorithm\n",
    "    for i in range(1, N+1):\n",
    "        distance[i][i] = 0\n",
    "    for j, tuples in enumerate(graph):\n",
    "        for t in tuples:\n",
    "            adj_node, dist = t\n",
    "            distance[j][adj_node] = dist\n",
    "    for k in range(1, N+1):\n",
    "        for i in range(1, N+1):\n",
    "            for j in range(1, N+1):\n",
    "                if i!=j:\n",
    "                    distance[i][j] = min(distance[i][j], distance[i][k] + distance[k][j])\n",
    "    \n",
    "    # Caculate result\n",
    "    result = 0\n",
    "    for i in range(len(path)-1):\n",
    "        start, end = path[i], path[i+1]\n",
    "        result += distance[start][end]\n",
    "    \n",
    "    # Print result\n",
    "    if result > INF:\n",
    "        print('Infinity')\n",
    "    else:\n",
    "        print(result)"
   ]
  },
  {
   "cell_type": "code",
   "execution_count": 10,
   "metadata": {},
   "outputs": [],
   "source": [
    "func([1,2,3])"
   ]
  }
 ],
 "metadata": {
  "kernelspec": {
   "display_name": "Python 3",
   "language": "python",
   "name": "python3"
  },
  "language_info": {
   "codemirror_mode": {
    "name": "ipython",
    "version": 3
   },
   "file_extension": ".py",
   "mimetype": "text/x-python",
   "name": "python",
   "nbconvert_exporter": "python",
   "pygments_lexer": "ipython3",
   "version": "3.8.5"
  }
 },
 "nbformat": 4,
 "nbformat_minor": 4
}
