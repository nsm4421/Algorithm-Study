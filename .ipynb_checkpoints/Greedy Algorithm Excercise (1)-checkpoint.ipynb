{
 "cells": [
  {
   "cell_type": "markdown",
   "metadata": {},
   "source": [
    "용사들의 공포 지수가 주어진다.\n",
    "\n",
    "각 팀원들은 속한 팀원의 수가 자신의 공포지수 이상이 되야 한다.\n",
    "\n",
    "만들 수 있는 최대의 팀원 수는?"
   ]
  },
  {
   "cell_type": "code",
   "execution_count": 1,
   "metadata": {},
   "outputs": [
    {
     "name": "stdout",
     "output_type": "stream",
     "text": [
      "1 2 3 3 4 4 5 5 5 5\n"
     ]
    }
   ],
   "source": [
    "fears = list(map(int, input().split()))\n",
    "N = len(fears)"
   ]
  },
  {
   "cell_type": "code",
   "execution_count": 2,
   "metadata": {},
   "outputs": [],
   "source": [
    "fears.sort()\n",
    "r, t = 0, 0\n",
    "for f in set(fears):\n",
    "    cnt = r\n",
    "    for s in fears:\n",
    "        if s==f:\n",
    "            cnt += 1\n",
    "    t += cnt//f\n",
    "    r = cnt%f"
   ]
  },
  {
   "cell_type": "code",
   "execution_count": 3,
   "metadata": {},
   "outputs": [
    {
     "name": "stdout",
     "output_type": "stream",
     "text": [
      "Number of team 3\n"
     ]
    }
   ],
   "source": [
    "print(f'Number of team {t}')"
   ]
  },
  {
   "cell_type": "markdown",
   "metadata": {},
   "source": [
    "0~9로 이루어진 문자열 S가 존재한다\n",
    "\n",
    "S의 각 자리 숫자들 사이에 +, x 기호를 넣어 가장 큰 수를 만들어라\n",
    "\n",
    "(단, 일반적인 연산 순서와 다르게 먼저 온 순서대로 연산이 이루어진다.\n",
    "\n",
    "예를 들어 S 가 203가 주어지면 2+0x3 를 2가 아닌 6으로 계산한다.)"
   ]
  },
  {
   "cell_type": "code",
   "execution_count": 4,
   "metadata": {},
   "outputs": [
    {
     "name": "stdout",
     "output_type": "stream",
     "text": [
      "012023\n"
     ]
    }
   ],
   "source": [
    "S = input()\n",
    "num_lst = []\n",
    "for i in S:\n",
    "    num_lst.append(int(i))"
   ]
  },
  {
   "cell_type": "code",
   "execution_count": 5,
   "metadata": {},
   "outputs": [
    {
     "name": "stdout",
     "output_type": "stream",
     "text": [
      "S : 012023 ---> Biggest : 6\n"
     ]
    }
   ],
   "source": [
    "# 재귀식 이용한 풀이\n",
    "\n",
    "def get_biggest(lst):\n",
    "    if len(lst)==1:\n",
    "        return lst[0]  \n",
    "    else:\n",
    "        if lst[0]==0:\n",
    "            return get_biggest(lst[1:])\n",
    "        elif lst[0]==1:\n",
    "            lst_ = lst[1:].copy()\n",
    "            lst_[0] = lst_[0]+1\n",
    "            return get_biggest(lst_)\n",
    "        else:\n",
    "            lst_ = lst[1:].copy()\n",
    "            lst_[0] = lst_[0]*lst[0]\n",
    "            return get_biggest(lst_)     \n",
    "\n",
    "print(f'S : {S} ---> Biggest : {get_biggest(num_lst)}')"
   ]
  },
  {
   "cell_type": "markdown",
   "metadata": {},
   "source": [
    "N개의 종류의 동전이 1개씩 주어진다.\n",
    "\n",
    "이 동전들로 만들 수 없는 금액의 최솟값을 구하려고 한다.\n",
    "\n",
    "예를 들어 1, 3, 5 ( N = 3 )가 입력으로 주어지면 답은 2가 된다."
   ]
  },
  {
   "cell_type": "code",
   "execution_count": 6,
   "metadata": {},
   "outputs": [
    {
     "name": "stdout",
     "output_type": "stream",
     "text": [
      "1 2 4 9\n"
     ]
    }
   ],
   "source": [
    "coins = list(map(int, input().split()))\n",
    "coins.sort()\n",
    "assert len(set(coins))==len(coins)"
   ]
  },
  {
   "cell_type": "code",
   "execution_count": 7,
   "metadata": {},
   "outputs": [],
   "source": [
    "def is_possible(coins, n):\n",
    "    \n",
    "    if n<=0 or n>sum(coins):\n",
    "        return False\n",
    "    \n",
    "    elif n in coins:\n",
    "        return True    \n",
    "    \n",
    "    else:\n",
    "        coins = set(coins)\n",
    "        for coin in coins:\n",
    "            if is_possible(coins - set([coin]), n-coin):\n",
    "                return True\n",
    "        return False"
   ]
  },
  {
   "cell_type": "code",
   "execution_count": 8,
   "metadata": {},
   "outputs": [
    {
     "name": "stdout",
     "output_type": "stream",
     "text": [
      "8\n"
     ]
    }
   ],
   "source": [
    "for i in range(1, sum(coins)+2):\n",
    "    if not is_possible(coins, i):\n",
    "        print(i)\n",
    "        break  "
   ]
  },
  {
   "cell_type": "code",
   "execution_count": null,
   "metadata": {},
   "outputs": [],
   "source": []
  }
 ],
 "metadata": {
  "kernelspec": {
   "display_name": "Python 3",
   "language": "python",
   "name": "python3"
  },
  "language_info": {
   "codemirror_mode": {
    "name": "ipython",
    "version": 3
   },
   "file_extension": ".py",
   "mimetype": "text/x-python",
   "name": "python",
   "nbconvert_exporter": "python",
   "pygments_lexer": "ipython3",
   "version": "3.8.5"
  }
 },
 "nbformat": 4,
 "nbformat_minor": 4
}
