{
 "cells": [
  {
   "cell_type": "markdown",
   "metadata": {},
   "source": [
    "구현"
   ]
  },
  {
   "cell_type": "code",
   "execution_count": 1,
   "metadata": {},
   "outputs": [
    {
     "name": "stdout",
     "output_type": "stream",
     "text": [
      "5\n"
     ]
    }
   ],
   "source": [
    "#---------- 혼자 한 코드 ( 쓰레기 ) -----------#\n",
    "def my_binary_search(array, target):\n",
    "    start = 0\n",
    "    end = len(array)\n",
    "    mid = (start + end)//2\n",
    "    \n",
    "    if array[mid]==target:\n",
    "        return mid\n",
    "    else:\n",
    "        while array[mid]!=target:\n",
    "            if array[mid]>target:\n",
    "                end = mid - 1\n",
    "                mid = (start + end)//2\n",
    "            elif array[mid]<target:\n",
    "                start = mid + 1\n",
    "                mid = (start + end)//2\n",
    "            else:\n",
    "                return mid\n",
    "    return mid\n",
    "\n",
    "#----------------------------------------#\n",
    "\n",
    "print(my_binary_search([1,2,3,4,5,6,7,8,9],6))"
   ]
  },
  {
   "cell_type": "code",
   "execution_count": 2,
   "metadata": {},
   "outputs": [
    {
     "name": "stdout",
     "output_type": "stream",
     "text": [
      "1\n"
     ]
    }
   ],
   "source": [
    "#-------- 책에서 제시하는 코드 --------#\n",
    "def binary_search(array, target, start, end):\n",
    "    while start <= end:\n",
    "        mid = (start + end)//2\n",
    "        if array[mid] == target:\n",
    "            return mid\n",
    "        elif array[mid]>target:\n",
    "            end = mid-1\n",
    "        else:\n",
    "            start = mid + 1\n",
    "    return None\n",
    "\n",
    "#----------------------------------------#\n",
    "\n",
    "print(binary_search([1,2,3,4,5,6,7,8,9],2,1,4))"
   ]
  },
  {
   "cell_type": "code",
   "execution_count": 3,
   "metadata": {},
   "outputs": [
    {
     "name": "stdout",
     "output_type": "stream",
     "text": [
      "1\n"
     ]
    }
   ],
   "source": [
    "#------------- 재귀함수를 사용한 구현 -----------------#\n",
    "\n",
    "def recursive_binary_search(array, target, start, end):\n",
    "    mid = (start + end)//2\n",
    "    \n",
    "    if start>end:\n",
    "        None\n",
    " \n",
    "    if array[mid] == target:\n",
    "        return mid\n",
    "    elif array[mid] < target:\n",
    "        return recursive_binary_search(array, target, mid+1, end)\n",
    "    else:\n",
    "        return recursive_binary_search(array, target, start, mid-1)\n",
    "\n",
    "#----------------------------------------#\n",
    "\n",
    "print(recursive_binary_search([1,2,3,4,5,6,7,8,9],2,1,4))"
   ]
  },
  {
   "cell_type": "markdown",
   "metadata": {},
   "source": [
    "주문"
   ]
  },
  {
   "cell_type": "code",
   "execution_count": 4,
   "metadata": {},
   "outputs": [],
   "source": [
    "items_have = [8, 3, 7, 9, 2, 11, 14, 64, 25, 23]\n",
    "items_ordered = [5, 7, 9, 22]"
   ]
  },
  {
   "cell_type": "code",
   "execution_count": 5,
   "metadata": {},
   "outputs": [
    {
     "name": "stdout",
     "output_type": "stream",
     "text": [
      "5 : No\n",
      "7 : Yes\n",
      "9 : Yes\n",
      "22 : No\n"
     ]
    }
   ],
   "source": [
    "def binary(item_have):\n",
    "    \n",
    "    items_have.sort()   # 오름차순 정렬\n",
    "    N = len(items_have)\n",
    "    \n",
    "    start = 0\n",
    "    end = N\n",
    "    mid = (start + end)//2   \n",
    "    \n",
    "    while start<=end:\n",
    "        if items_have[mid] == item:\n",
    "            return mid        \n",
    "        if items_have[mid]>item:\n",
    "            end = mid-1\n",
    "            mid = (start+end)//2\n",
    "        elif items_have[mid]<item:\n",
    "            start = mid+1\n",
    "            mid = (start+end)//2\n",
    "    return None\n",
    "\n",
    "items_ordered.sort()\n",
    "for item in items_ordered:\n",
    "    yes_or_no = binary(item)\n",
    "    if yes_or_no is None:\n",
    "        print(f'{item} : No')\n",
    "    else:\n",
    "        print(f'{item} : Yes')"
   ]
  },
  {
   "cell_type": "markdown",
   "metadata": {},
   "source": [
    "떡볶이 떡"
   ]
  },
  {
   "cell_type": "code",
   "execution_count": 8,
   "metadata": {},
   "outputs": [
    {
     "name": "stdout",
     "output_type": "stream",
     "text": [
      "12\n"
     ]
    }
   ],
   "source": [
    "array = [10,15,12,11,14,12]    # 떡들의 길이\n",
    "M = 4    # 먹고 싶은 떡의 최소 길이\n",
    "\n",
    "start, end = min(array), max(array)\n",
    "result = 0\n",
    "\n",
    "while start<=end:\n",
    "    total = 0\n",
    "    mid = (start + end)//2\n",
    "    for x in array:\n",
    "        if x>mid:\n",
    "            total += x-mid\n",
    "    if total<M:\n",
    "        end = mid-1\n",
    "    else:\n",
    "        result = mid\n",
    "        start = mid + 1\n",
    "\n",
    "print(result)"
   ]
  },
  {
   "cell_type": "code",
   "execution_count": 9,
   "metadata": {},
   "outputs": [
    {
     "name": "stdout",
     "output_type": "stream",
     "text": [
      "12\n"
     ]
    }
   ],
   "source": [
    "def dduck_length(dducks, H):\n",
    "    dduck_len = 0\n",
    "    for dduck in dducks:\n",
    "        dduck_len += max(dduck-H, 0)\n",
    "    return dduck_len\n",
    "\n",
    "# ---------------------------------------------------#\n",
    "\n",
    "def DDUCK(dducks, M):\n",
    "    N = len(dducks)\n",
    "    done = False\n",
    "    start, end = min(dducks), max(dducks)\n",
    "    mid = (start + end)//2\n",
    " \n",
    "    while True:\n",
    "        done = dduck_length(dducks, mid)>=M and dduck_length(dducks, mid)<M+N\n",
    "        if done:\n",
    "            break\n",
    "        else:\n",
    "            if dduck_length(dducks, mid) < M:\n",
    "                end = mid - 1\n",
    "                mid = (start + end)//2\n",
    "            elif dduck_length(dducks, mid) > M:\n",
    "                start = mid + 1\n",
    "                mid = (start + end)//2\n",
    "            \n",
    "    return mid         \n",
    "\n",
    "# ---------------------------------------------------#\n",
    "\n",
    "print(DDUCK([10,15,12,11,14,12], 4))"
   ]
  }
 ],
 "metadata": {
  "kernelspec": {
   "display_name": "Python 3",
   "language": "python",
   "name": "python3"
  },
  "language_info": {
   "codemirror_mode": {
    "name": "ipython",
    "version": 3
   },
   "file_extension": ".py",
   "mimetype": "text/x-python",
   "name": "python",
   "nbconvert_exporter": "python",
   "pygments_lexer": "ipython3",
   "version": "3.8.5"
  }
 },
 "nbformat": 4,
 "nbformat_minor": 4
}
