{
 "cells": [
  {
   "cell_type": "markdown",
   "metadata": {},
   "source": [
    "Daikstra\n",
    "\n",
    "Time Complexity : $O(V^2)$"
   ]
  },
  {
   "cell_type": "code",
   "execution_count": 8,
   "metadata": {},
   "outputs": [],
   "source": [
    "N = 6\n",
    "start = 1\n",
    "INF = int(1e5)\n",
    "graph = [[],\n",
    "        [[2, 2], [3, 5], [4, 1]],\n",
    "        [[4, 2], [3, 3]],\n",
    "        [[2, 3], [6, 5]],\n",
    "        [[3, 3], [5, 1]],\n",
    "        [[3, 1], [6, 2]],\n",
    "        []]\n",
    "\n",
    "visited = [False]*(N+1)\n",
    "distance = [INF]*(N+1)"
   ]
  },
  {
   "cell_type": "code",
   "execution_count": 9,
   "metadata": {},
   "outputs": [],
   "source": [
    "def get_smallest_node():\n",
    "    # 방문하지 않은 node 중 가장 짧은 노드의 번호를 반환\n",
    "    min_value = INF\n",
    "    idx = 0\n",
    "    for i in range(1, N+1):\n",
    "        if distance[i] < min_value and not visited[i]:\n",
    "            min_value = distance[i]\n",
    "            idx = i\n",
    "    return idx"
   ]
  },
  {
   "cell_type": "code",
   "execution_count": 10,
   "metadata": {},
   "outputs": [],
   "source": [
    "def dijkstra(start = 1):\n",
    "    \n",
    "    distance[start] = 0\n",
    "    visited[start] = True\n",
    "    \n",
    "    for j in graph[start]:\n",
    "        # j[0] : adjoint node // j[1] : distance\n",
    "        distance[j[0]] = j[1]\n",
    "    \n",
    "    for i in range(N-1):\n",
    "        now = get_smallest_node()\n",
    "        visited[now] = True\n",
    "        for k in graph[now]:\n",
    "            cost = distance[now] + k[1]\n",
    "            if cost<distance[k[0]]:\n",
    "                distance[k[0]] = cost"
   ]
  },
  {
   "cell_type": "code",
   "execution_count": 12,
   "metadata": {},
   "outputs": [
    {
     "name": "stdout",
     "output_type": "stream",
     "text": [
      "Cost 1 ~ 1 : 0\n",
      "Cost 1 ~ 2 : 2\n",
      "Cost 1 ~ 3 : 3\n",
      "Cost 1 ~ 4 : 1\n",
      "Cost 1 ~ 5 : 2\n",
      "Cost 1 ~ 6 : 4\n"
     ]
    }
   ],
   "source": [
    "dijkstra(start)\n",
    "\n",
    "for i in range(1, N+1):\n",
    "    if distance[i] == INF:\n",
    "        print(f'Cost {start} ~ {i} : Infinity')\n",
    "    else:\n",
    "        print(f'Cost {start} ~ {i} : {distance[i]}')"
   ]
  }
 ],
 "metadata": {
  "kernelspec": {
   "display_name": "Python 3",
   "language": "python",
   "name": "python3"
  },
  "language_info": {
   "codemirror_mode": {
    "name": "ipython",
    "version": 3
   },
   "file_extension": ".py",
   "mimetype": "text/x-python",
   "name": "python",
   "nbconvert_exporter": "python",
   "pygments_lexer": "ipython3",
   "version": "3.8.5"
  }
 },
 "nbformat": 4,
 "nbformat_minor": 4
}
